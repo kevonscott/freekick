{
 "cells": [
  {
   "cell_type": "code",
   "execution_count": null,
   "metadata": {},
   "outputs": [],
   "source": [
    "import sys\n",
    "sys.path.append('../..')\n",
    "import pandas as pd\n",
    "import numpy as np\n",
    "from sklearn.model_selection import train_test_split\n",
    "\n",
    "from ai import get_team_code\n",
    "from functools import  partial"
   ]
  },
  {
   "cell_type": "markdown",
   "metadata": {},
   "source": [
    "## Load and format data"
   ]
  },
  {
   "cell_type": "code",
   "execution_count": null,
   "metadata": {},
   "outputs": [],
   "source": [
    "X = pd.read_csv('../data/processed/epl.csv')\n",
    "X = X[[\"HomeTeam\", \"AwayTeam\", \"FTHG\", \"FTAG\", \"Date\", \"Time\"]]\n",
    "X = X.rename(columns={\"HomeTeam\": \"home\", \"AwayTeam\": \"away\", \"FTHG\": \"home_goals\", \"FTAG\": \"away_goals\", \"Date\": \"date\", \"Time\": \"time\"})\n",
    "X['date'] = pd.to_datetime(X['date'])\n",
    "X = X.dropna(how='all')  # Drop rows with all null values\n",
    "X['time'] = X['time'].fillna(method='bfill').fillna(method='ffill')\n",
    "X['time'] = pd.to_datetime(X['time'], format='%H:%M').dt.time\n",
    "X = X.sort_values(by=['date'])\n",
    "\n",
    "\n",
    "team_code = partial(get_team_code, 'epl')\n",
    "X['home'] = X['home'].apply(team_code)\n",
    "X['away'] = X['away'].apply(team_code)"
   ]
  },
  {
   "cell_type": "code",
   "execution_count": null,
   "metadata": {},
   "outputs": [],
   "source": [
    "X.head()"
   ]
  },
  {
   "cell_type": "code",
   "execution_count": null,
   "metadata": {},
   "outputs": [],
   "source": [
    "X.dtypes"
   ]
  },
  {
   "cell_type": "markdown",
   "metadata": {},
   "source": []
  },
  {
   "cell_type": "code",
   "execution_count": null,
   "metadata": {},
   "outputs": [],
   "source": [
    "X.info()\n"
   ]
  },
  {
   "cell_type": "code",
   "execution_count": null,
   "metadata": {},
   "outputs": [],
   "source": [
    "team_rank_df = pd.read_csv('../data/processed/epl_team_ranking.csv', index_col=['date', 'ranking'], parse_dates=True)\n",
    "team_rank_df.columns = [team_code(c) for c in team_rank_df.columns]\n",
    "team_rank_df = team_rank_df.sort_values(by=['date'])"
   ]
  },
  {
   "cell_type": "code",
   "execution_count": null,
   "metadata": {},
   "outputs": [],
   "source": [
    "team_rank_df.head()"
   ]
  },
  {
   "cell_type": "code",
   "execution_count": null,
   "metadata": {},
   "outputs": [],
   "source": [
    "team_rank_cp = team_rank_df.copy()\n",
    "# team_rank_cp = team_rank_cp.reset_index()\n",
    "# team_rank_cp = team_rank_cp.set_index(['date', 'ranking'])"
   ]
  },
  {
   "cell_type": "code",
   "execution_count": null,
   "metadata": {},
   "outputs": [],
   "source": [
    "team_rank_cp.head()"
   ]
  },
  {
   "cell_type": "code",
   "execution_count": null,
   "metadata": {},
   "outputs": [],
   "source": [
    "pd.merge_asof(X, team_rank_cp,on='date', by='home')"
   ]
  },
  {
   "cell_type": "code",
   "execution_count": null,
   "metadata": {},
   "outputs": [],
   "source": [
    "X.describe()"
   ]
  },
  {
   "cell_type": "code",
   "execution_count": null,
   "metadata": {},
   "outputs": [],
   "source": [
    "X.info()"
   ]
  },
  {
   "cell_type": "code",
   "execution_count": null,
   "metadata": {},
   "outputs": [],
   "source": [
    "X.dtypes"
   ]
  },
  {
   "cell_type": "code",
   "execution_count": null,
   "metadata": {},
   "outputs": [],
   "source": [
    "X.shape"
   ]
  },
  {
   "cell_type": "code",
   "execution_count": null,
   "metadata": {},
   "outputs": [],
   "source": [
    "X.head()"
   ]
  },
  {
   "cell_type": "code",
   "execution_count": null,
   "metadata": {},
   "outputs": [],
   "source": [
    "y = np.sign(X['home_goals'] - X['away_goals'])"
   ]
  },
  {
   "cell_type": "code",
   "execution_count": null,
   "metadata": {},
   "outputs": [],
   "source": [
    "y.head()"
   ]
  },
  {
   "cell_type": "code",
   "execution_count": null,
   "metadata": {},
   "outputs": [],
   "source": [
    "X_train, X_test, y_train, y_test = train_test_split(X, y, test_size=0.2)"
   ]
  },
  {
   "cell_type": "code",
   "execution_count": null,
   "metadata": {},
   "outputs": [],
   "source": [
    "X_train.head()"
   ]
  },
  {
   "cell_type": "code",
   "execution_count": null,
   "metadata": {},
   "outputs": [],
   "source": [
    "pd.get_dummies(X, columns=['home','away'],prefix=['home_', 'away_']).head()"
   ]
  },
  {
   "cell_type": "markdown",
   "metadata": {},
   "source": [
    "## KNN Model Analysis"
   ]
  },
  {
   "cell_type": "code",
   "execution_count": null,
   "metadata": {},
   "outputs": [],
   "source": [
    "# from sklearn.neighbors import KNeighborsClassifier\n",
    "# import matplotlib.pyplot as plt\n",
    "\n",
    "# training_accuracy = []\n",
    "# test_accuracy = []\n",
    "\n",
    "# # try neighbors from 1 to 10\n",
    "# neighbors_list = range(1,11)\n",
    "\n",
    "# for n_neighbors in neighbors_list:\n",
    "#     # build model\n",
    "#     clf = KNeighborsClassifier(n_neighbors=n_neighbors)\n",
    "#     clf.fit(X_train, y_train)\n",
    "#     # Record training set accuracy\n",
    "#     training_accuracy.append(clf.score(X_train, y_train))\n",
    "#     # record generalized accuracy\n",
    "#     test_accuracy.append(clf.score(X_test, y_test))\n",
    "\n",
    "# plt.plot(neighbors_list, training_accuracy, label=\"training accuracy\")\n",
    "# plt.plot(neighbors_list, test_accuracy, label=\"test accuracy\")\n",
    "# plt.ylabel(\"Accuracy\")\n",
    "# plt.xlabel('n_neighbors')\n",
    "# plt.legend()\n",
    "# plt.show()"
   ]
  },
  {
   "cell_type": "code",
   "execution_count": null,
   "metadata": {},
   "outputs": [],
   "source": [
    "raw_df = pd.read_csv('../data/raw/epl/season_1993-1994.csv')\n",
    "raw_df2 = pd.read_csv('../data/raw/epl/season_2021-2022.csv')"
   ]
  },
  {
   "cell_type": "code",
   "execution_count": null,
   "metadata": {},
   "outputs": [],
   "source": [
    "join_df = pd.concat([raw_df, raw_df2], axis=0)"
   ]
  },
  {
   "cell_type": "code",
   "execution_count": null,
   "metadata": {},
   "outputs": [],
   "source": [
    "join_df.shape"
   ]
  },
  {
   "cell_type": "code",
   "execution_count": null,
   "metadata": {},
   "outputs": [],
   "source": [
    "join_df['Time']"
   ]
  },
  {
   "cell_type": "code",
   "execution_count": null,
   "metadata": {},
   "outputs": [],
   "source": [
    "join_df['Time'].fillna(method='bfill').isna().sum()"
   ]
  },
  {
   "cell_type": "code",
   "execution_count": null,
   "metadata": {},
   "outputs": [],
   "source": []
  }
 ],
 "metadata": {
  "kernelspec": {
   "display_name": "Python 3.10.5 ('.venv': venv)",
   "language": "python",
   "name": "python3"
  },
  "language_info": {
   "codemirror_mode": {
    "name": "ipython",
    "version": 3
   },
   "file_extension": ".py",
   "mimetype": "text/x-python",
   "name": "python",
   "nbconvert_exporter": "python",
   "pygments_lexer": "ipython3",
   "version": "3.10.14"
  },
  "orig_nbformat": 4,
  "vscode": {
   "interpreter": {
    "hash": "936db2096e9f6525365b70c95c75d0aa222a8523939c24ac529b3d922b436055"
   }
  }
 },
 "nbformat": 4,
 "nbformat_minor": 2
}
